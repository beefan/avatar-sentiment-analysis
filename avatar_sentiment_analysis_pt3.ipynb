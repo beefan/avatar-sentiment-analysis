{
 "cells": [
  {
   "cell_type": "markdown",
   "metadata": {},
   "source": [
    "# Avatar the Last Air Bender \n",
    "## *Sentiment Analysis of Characters, plot over time*"
   ]
  },
  {
   "cell_type": "markdown",
   "metadata": {},
   "source": [
    "## Part Three: Process Sentiment Data to Create Data for Charts"
   ]
  },
  {
   "cell_type": "markdown",
   "metadata": {},
   "source": [
    "We'll need the json module and a few helper functions for opening and saving json files"
   ]
  },
  {
   "cell_type": "code",
   "execution_count": 17,
   "metadata": {},
   "outputs": [],
   "source": [
    "import json\n",
    "\n",
    "# opens json file as python dictionary\n",
    "def open_json_as_dict(path):\n",
    "  with open(path) as f:\n",
    "    data = json.load(f)\n",
    "  return data\n",
    "\n",
    "# dump a python dictionary object to a json file\n",
    "def save_json(pyDict, path):\n",
    "  with open(path, 'w') as f:\n",
    "    json.dump(pyDict, f)"
   ]
  },
  {
   "cell_type": "markdown",
   "metadata": {},
   "source": [
    "Make a function to get episode plots from the sentiment data"
   ]
  },
  {
   "cell_type": "code",
   "execution_count": 4,
   "metadata": {},
   "outputs": [],
   "source": [
    "def get_plots_from_sentiment_data(nrcEp, vaderEp):\n",
    "    return []"
   ]
  },
  {
   "cell_type": "code",
   "execution_count": null,
   "metadata": {},
   "outputs": [],
   "source": [
    "# one plot of form {\"name\", \"x\", \"y\"}"
   ]
  },
  {
   "cell_type": "markdown",
   "metadata": {},
   "source": [
    "Now, we need a function to get the sentiment data for a book/season summary."
   ]
  },
  {
   "cell_type": "code",
   "execution_count": 30,
   "metadata": {},
   "outputs": [],
   "source": [
    "def get_end_of_book_page(index, title, nrc, vader):\n",
    "    nrcL = []\n",
    "    vaderL = []\n",
    "    \n",
    "    # if book 1\n",
    "    if index == 22:\n",
    "        for i in range(0,22):\n",
    "            nrcL.extend(nrc[i]['lines'])\n",
    "            vaderL.extend(nrc[i]['lines'])\n",
    "    # book 2\n",
    "    elif index == 42:\n",
    "        for i in range(22,42):\n",
    "            nrcL.extend(nrc[i]['lines'])\n",
    "            vaderL.extend(nrc[i]['lines'])\n",
    "    # book 3\n",
    "    else:\n",
    "        for i in range(42,len(nrc)):\n",
    "            nrcL.extend(nrc[i]['lines'])\n",
    "            vaderL.extend(nrc[i]['lines'])\n",
    "    \n",
    "    # combine all the lines for the book\n",
    "    plots = get_plots_from_sentiment_data({ \"title\": title, \"lines\": nrcL }, { \"title\": title, \"lines\": vaderL })\n",
    "    \n",
    "    return {\"title\": 'end-book', \"bookTitle\": title, \"plots\": plots}"
   ]
  },
  {
   "cell_type": "markdown",
   "metadata": {},
   "source": [
    "And a function to get the sentiment data for the series in totality. "
   ]
  },
  {
   "cell_type": "code",
   "execution_count": 6,
   "metadata": {},
   "outputs": [],
   "source": [
    "def get_end_of_series_page(nrc, vader):\n",
    "    nrcL = []\n",
    "    vaderL = []\n",
    "    title = 'end-series'\n",
    "    \n",
    "    for i in range(0, len(nrc)):\n",
    "        nrcL.extend(nrc[i]['lines'])\n",
    "        vaderL.extend(nrc)\n",
    "    plots = get_plots_from_sentiment_data({ \"title\": title, \"lines\": nrcL }, { \"title\": title, \"lines\": vaderL })\n",
    "    \n",
    "    return {\"title\": title, \"bookTitle\": '', \"plots\": plots}"
   ]
  },
  {
   "cell_type": "markdown",
   "metadata": {},
   "source": [
    "Define the final function needed. The one that calls them all. Loops through all the episodes and \n",
    "generates chart data for each."
   ]
  },
  {
   "cell_type": "code",
   "execution_count": 28,
   "metadata": {},
   "outputs": [],
   "source": [
    "def generate_chart_data(nrcData, vaderData):\n",
    "    bookTitles = ['Book One: Water', 'Book Two: Earth', 'Book Three: Fire']\n",
    "    bookStarts = ['The Avatar State', 'Escape from the Spirit World']\n",
    "    book = 0\n",
    "    pages = []\n",
    "    totalEps = len(nrcData)\n",
    "    \n",
    "    for i in range(0, totalEps):\n",
    "        title = nrcData[i]['title']\n",
    "        # if we are starting a new Book\n",
    "        if title in bookStarts and title != bookStarts[book - 1]:\n",
    "            print(i)\n",
    "            print(title)\n",
    "            book += 1\n",
    "            pages.append(get_end_of_book_page(i, bookTitles[book], nrcData, vaderData))\n",
    "        bookTitle = bookTitles[book]\n",
    "        plots = get_plots_from_sentiment_data(nrcData[i], vaderData[i])\n",
    "        page = { \"title\": title, \"bookTitle\": bookTitle, \"plots\": plots }\n",
    "        pages.append(page)\n",
    "    \n",
    "    # if this is the last episode\n",
    "    if i == (totalEps - 1):\n",
    "        pages.append(get_end_of_book_page(i, bookTitle, nrcData[i], vaderData[i]))\n",
    "        pages.append(get_end_of_series_page(nrcData, vaderData))\n",
    "    \n",
    "    return pages"
   ]
  },
  {
   "cell_type": "markdown",
   "metadata": {},
   "source": [
    "Okay now time to do the work.\n",
    "\n",
    "Generate the pages and save chart data as a json file."
   ]
  },
  {
   "cell_type": "code",
   "execution_count": 31,
   "metadata": {},
   "outputs": [
    {
     "name": "stdout",
     "output_type": "stream",
     "text": [
      "22\n",
      "The Avatar State\n",
      "3852\n",
      "3852\n",
      "42\n",
      "Escape from the Spirit World\n",
      "3186\n",
      "3186\n",
      "0\n",
      "0\n"
     ]
    }
   ],
   "source": [
    "# get NRC and Vader data by episode\n",
    "nrcEmotionData = open_json_as_dict('data/avatar-episodes-nrc-emotion.json')['episodes']\n",
    "vaderScoreData = open_json_as_dict('data/avatar-episodes-vader-scores.json')['episodes']\n",
    "\n",
    "# generate page data\n",
    "pages = { \"pages\": generate_chart_data(nrcEmotionData, vaderScoreData) }\n",
    "\n",
    "# save the data as json file\n",
    "save_json(pages, 'data/avatar-chart-data.json')"
   ]
  },
  {
   "cell_type": "code",
   "execution_count": null,
   "metadata": {},
   "outputs": [],
   "source": []
  }
 ],
 "metadata": {
  "kernelspec": {
   "display_name": "Python 3",
   "language": "python",
   "name": "python3"
  },
  "language_info": {
   "codemirror_mode": {
    "name": "ipython",
    "version": 3
   },
   "file_extension": ".py",
   "mimetype": "text/x-python",
   "name": "python",
   "nbconvert_exporter": "python",
   "pygments_lexer": "ipython3",
   "version": "3.6.9"
  }
 },
 "nbformat": 4,
 "nbformat_minor": 4
}
