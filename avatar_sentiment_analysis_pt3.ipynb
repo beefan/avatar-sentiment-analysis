{
 "cells": [
  {
   "cell_type": "markdown",
   "metadata": {},
   "source": [
    "# Avatar the Last Air Bender \n",
    "## *Sentiment Analysis of Characters, plot over time*"
   ]
  },
  {
   "cell_type": "markdown",
   "metadata": {},
   "source": [
    "## Part Three: Process Sentiment Data to Create Data for Charts"
   ]
  },
  {
   "cell_type": "code",
   "execution_count": 2,
   "metadata": {},
   "outputs": [],
   "source": [
    "import json"
   ]
  },
  {
   "cell_type": "code",
   "execution_count": 3,
   "metadata": {},
   "outputs": [],
   "source": [
    "# opens json file as python dictionary\n",
    "def open_json_as_dict(path):\n",
    "  with open(path) as f:\n",
    "    data = json.load(f)\n",
    "  return data"
   ]
  },
  {
   "cell_type": "code",
   "execution_count": 4,
   "metadata": {},
   "outputs": [],
   "source": [
    "def get_plots_from_sentiment_data(nrc, vader):\n",
    "    return []"
   ]
  },
  {
   "cell_type": "code",
   "execution_count": 5,
   "metadata": {},
   "outputs": [],
   "source": [
    "def get_end_of_book_page(lastIndex, nrc, vader):\n",
    "    return {\"end-book\": 1}"
   ]
  },
  {
   "cell_type": "code",
   "execution_count": 6,
   "metadata": {},
   "outputs": [],
   "source": [
    "def get_end_of_series_page(nrc, vader):\n",
    "    return {\"end\": 1}"
   ]
  },
  {
   "cell_type": "code",
   "execution_count": 7,
   "metadata": {},
   "outputs": [],
   "source": [
    "# dump a python dictionary object to a json file\n",
    "def save_json(pyDict, path):\n",
    "  with open(path, 'w') as f:\n",
    "    json.dump(pyDict, f)"
   ]
  },
  {
   "cell_type": "code",
   "execution_count": 15,
   "metadata": {},
   "outputs": [],
   "source": [
    "def generate_chart_data(nrcData, vaderData):\n",
    "    bookTitles = ['Book One: Water', 'Book Two: Earth', 'Book Three: Fire']\n",
    "    bookStarts = ['The Avatar State', 'Escape from the Spirit World']\n",
    "    book = 0\n",
    "    pages = []\n",
    "    totalEps = len(nrcData)\n",
    "    \n",
    "    for i in range(0, totalEps):\n",
    "        title = nrcData[i]['title']\n",
    "        # if we are starting a new Book\n",
    "        if title in bookStarts and title != bookStarts[book - 1]:\n",
    "            pages.append(get_end_of_book_page(i - 1, nrcData, vaderData))\n",
    "            book += 1\n",
    "        bookTitle = bookTitles[book]\n",
    "        plots = get_plots_from_sentiment_data(nrcData, vaderData)\n",
    "        page = { \"title\": title, \"bookTitle\": bookTitle, \"plots\": plots }\n",
    "        pages.append(page)\n",
    "    \n",
    "    # if this is the last episode\n",
    "    if i == (totalEps - 1):\n",
    "        pages.append(get_end_of_series_page(nrcData, vaderData))\n",
    "    \n",
    "    return pages"
   ]
  },
  {
   "cell_type": "code",
   "execution_count": 16,
   "metadata": {},
   "outputs": [],
   "source": [
    "# get NRC emotions by episode\n",
    "nrcEmotionData = open_json_as_dict('data/avatar-episodes-nrc-emotion.json')['episodes']\n",
    "# get Vader scores by episode \n",
    "vaderScoreData = open_json_as_dict('data/avatar-episodes-vader-scores.json')['episodes']\n",
    "\n",
    "pages = { \"pages\": generate_chart_data(nrcEmotionData, vaderScoreData) }\n",
    "\n",
    "save_json(pages, 'data/avatar-chart-data.json')"
   ]
  },
  {
   "cell_type": "code",
   "execution_count": null,
   "metadata": {},
   "outputs": [],
   "source": []
  }
 ],
 "metadata": {
  "kernelspec": {
   "display_name": "Python 3",
   "language": "python",
   "name": "python3"
  },
  "language_info": {
   "codemirror_mode": {
    "name": "ipython",
    "version": 3
   },
   "file_extension": ".py",
   "mimetype": "text/x-python",
   "name": "python",
   "nbconvert_exporter": "python",
   "pygments_lexer": "ipython3",
   "version": "3.6.9"
  }
 },
 "nbformat": 4,
 "nbformat_minor": 4
}
