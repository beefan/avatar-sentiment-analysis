{
 "cells": [
  {
   "cell_type": "markdown",
   "metadata": {},
   "source": [
    "# Avatar the Last Air Bender \n",
    "## *Sentiment Analysis of Characters, plot over time*"
   ]
  },
  {
   "cell_type": "markdown",
   "metadata": {},
   "source": [
    "## Part Three: Process Sentiment Data to Create Data for Charts"
   ]
  },
  {
   "cell_type": "markdown",
   "metadata": {},
   "source": [
    "We'll need the json module and a few helper functions for opening and saving json files"
   ]
  },
  {
   "cell_type": "code",
   "execution_count": 142,
   "metadata": {},
   "outputs": [],
   "source": [
    "import json\n",
    "\n",
    "# opens json file as python dictionary\n",
    "def open_json_as_dict(path):\n",
    "  with open(path) as f:\n",
    "    data = json.load(f)\n",
    "  return data\n",
    "\n",
    "# dump a python dictionary object to a json file\n",
    "def save_json(pyDict, path):\n",
    "  with open(path, 'w') as f:\n",
    "    json.dump(pyDict, f)"
   ]
  },
  {
   "cell_type": "markdown",
   "metadata": {},
   "source": [
    "Make a function to get emotion totals from a list of NRC emotions."
   ]
  },
  {
   "cell_type": "code",
   "execution_count": 143,
   "metadata": {},
   "outputs": [],
   "source": [
    "def get_emotion_totals(emotions):\n",
    "    emotionMap = {\n",
    "      \"anger\": 0,\n",
    "      \"anticipation\": 0,\n",
    "      \"disgust\": 0,\n",
    "      \"fear\": 0,\n",
    "      \"joy\": 0,\n",
    "      \"negative\": 0,\n",
    "      \"positive\": 0,\n",
    "      \"sadness\": 0,\n",
    "      \"surprise\": 0,\n",
    "      \"trust\": 0\n",
    "      }\n",
    "    for emotion in emotions:\n",
    "        if emotion != 'none':\n",
    "            emotionMap[emotion] += 1\n",
    "    \n",
    "    emotions = list(emotionMap.keys())\n",
    "    emotionTotals = list(emotionMap.values())\n",
    "    \n",
    "    return {\"emotions\": emotions, \"totals\": emotionTotals}"
   ]
  },
  {
   "cell_type": "markdown",
   "metadata": {},
   "source": [
    "Now we need a function to generate the per episode plots.\n",
    "Three plots (sets of data) each:\n",
    "* 1. [lines] x [vader compound scores]\n",
    "* 2. [lines] x [emotions]\n",
    "* 3. [emotions] x [num appearances]"
   ]
  },
  {
   "cell_type": "code",
   "execution_count": 144,
   "metadata": {},
   "outputs": [],
   "source": [
    "def generate_plots(nrcEp, vaderEp):\n",
    "    plots = []\n",
    "    title = nrcEp['title']\n",
    "    numEps = len(nrcEp['lines'])\n",
    "    lines = [ ln for ln in range(0, numEps) ]\n",
    "    vader = [ vaderEp['vaderLines'][i][1]['compound'] for i in range(0, numEps) ] \n",
    "    nrc = [ nrcEp['lines'][i][1] for i in range(0, numEps) ]\n",
    "    e = get_emotion_totals(nrc)\n",
    "    \n",
    "    plots.append({\"name\": title + ' Vader Compound Scores By Line', \"x\": lines, \"y\": vader})\n",
    "    plots.append({\"name\": title + ' NRC Emotions By Line', \"x\": lines, \"y\": nrc})\n",
    "    plots.append({\"name\": title + ' NRC Emotion Totals', \"x\": e['emotions'], \"y\": e['totals']})\n",
    "        \n",
    "    return plots"
   ]
  },
  {
   "cell_type": "markdown",
   "metadata": {},
   "source": [
    "We'll need a slightly different function to get charts for every character speaking more than 5 lines.\n",
    "Though we will still generate the same three charts for each."
   ]
  },
  {
   "cell_type": "code",
   "execution_count": 145,
   "metadata": {},
   "outputs": [],
   "source": [
    "def generate_character_plots(nrcEp, vaderEp):\n",
    "    plots = []\n",
    "    characters = { }\n",
    "    \n",
    "    lines = nrcEp['lines']\n",
    "    vaderLines = vaderEp['vaderLines']\n",
    "    for i in range(0, len(lines)):\n",
    "        char = lines[i][0]\n",
    "        if characters.get(char) == None:\n",
    "            characters[char] = {\"lines\": [i], \"nrc\": [lines[i][1]], \"vader\": [vaderLines[i][1]['compound']]}\n",
    "        else:\n",
    "            characters[char]['lines'].append(i)\n",
    "            characters[char]['nrc'].append(lines[i][1])\n",
    "            characters[char]['vader'].append(vaderLines[i][1]['compound'])\n",
    "    \n",
    "    for entry in characters.items():\n",
    "        char = entry[0]\n",
    "        data = entry[1]\n",
    "        # if less than 5 lines, don't include character\n",
    "        if len(data['lines']) < 5:\n",
    "            break\n",
    "        e = get_emotion_totals(data['nrc'])\n",
    "        \n",
    "        plots.append({\"name\": char + ' Vader Compound Scores By Line', \"x\": data['lines'], \"y\": data['vader']})\n",
    "        plots.append({\"name\": char + ' NRC Emotions By Line', \"x\": data['lines'], \"y\": data['nrc']})\n",
    "        plots.append({\"name\": char + ' NRC Emotion Totals', \"x\": e['emotions'], \"y\": e['totals']})\n",
    "    \n",
    "    return plots"
   ]
  },
  {
   "cell_type": "markdown",
   "metadata": {},
   "source": [
    "Create a wrapper function to call the two plot generators and combine the results."
   ]
  },
  {
   "cell_type": "code",
   "execution_count": 146,
   "metadata": {},
   "outputs": [],
   "source": [
    "def get_plots_from_sentiment_data(nrcEp, vaderEp):\n",
    "    plots = generate_plots(nrcEp, vaderEp)\n",
    "    plots.extend(generate_character_plots(nrcEp, vaderEp))\n",
    "    return plots"
   ]
  },
  {
   "cell_type": "markdown",
   "metadata": {},
   "source": [
    "Now, we need a function to get the sentiment data for a book/season summary."
   ]
  },
  {
   "cell_type": "code",
   "execution_count": 147,
   "metadata": {},
   "outputs": [],
   "source": [
    "def get_end_of_book_page(index, title, nrc, vader):\n",
    "    nrcL = []\n",
    "    vaderL = []\n",
    "    \n",
    "    # if book 1\n",
    "    if index == 22:\n",
    "        for i in range(0,22):\n",
    "            nrcL.extend(nrc[i]['lines'])\n",
    "            vaderL.extend(vader[i]['vaderLines'])\n",
    "    # book 2\n",
    "    elif index == 42:\n",
    "        for i in range(22,42):\n",
    "            nrcL.extend(nrc[i]['lines'])\n",
    "            vaderL.extend(vader[i]['vaderLines'])\n",
    "    # book 3\n",
    "    else:\n",
    "        for i in range(42,len(nrc)):\n",
    "            nrcL.extend(nrc[i]['lines'])\n",
    "            vaderL.extend(vader[i]['vaderLines'])\n",
    "    \n",
    "    # combine all the lines for the book\n",
    "    plots = get_plots_from_sentiment_data({ \"title\": title, \"lines\": nrcL }, { \"title\": title, \"vaderLines\": vaderL })\n",
    "\n",
    "    return {\"title\": 'end-book', \"bookTitle\": title, \"plots\": plots}"
   ]
  },
  {
   "cell_type": "markdown",
   "metadata": {},
   "source": [
    "And a function to get the sentiment data for the series in totality. "
   ]
  },
  {
   "cell_type": "code",
   "execution_count": 148,
   "metadata": {},
   "outputs": [],
   "source": [
    "def get_end_of_series_page(nrc, vader):\n",
    "    nrcL = []\n",
    "    vaderL = []\n",
    "    title = 'end-series'\n",
    "    \n",
    "    for i in range(0, len(nrc)):\n",
    "        nrcL.extend(nrc[i]['lines'])\n",
    "        vaderL.extend(vader[i]['vaderLines'])\n",
    "        \n",
    "    plots = get_plots_from_sentiment_data({ \"title\": title, \"lines\": nrcL }, { \"title\": title, \"vaderLines\": vaderL })\n",
    "    \n",
    "    return {\"title\": title, \"bookTitle\": '', \"plots\": plots}"
   ]
  },
  {
   "cell_type": "markdown",
   "metadata": {},
   "source": [
    "Define the final function needed. The one that calls them all. Loops through all the episodes and \n",
    "generates chart data for each."
   ]
  },
  {
   "cell_type": "code",
   "execution_count": 149,
   "metadata": {},
   "outputs": [],
   "source": [
    "def generate_chart_data(nrcData, vaderData):\n",
    "    bookTitles = ['Book One: Water', 'Book Two: Earth', 'Book Three: Fire']\n",
    "    bookStarts = ['The Avatar State', 'Escape from the Spirit World']\n",
    "    book = 0\n",
    "    pages = []\n",
    "    totalEps = len(nrcData)\n",
    "    for i in range(0, totalEps):\n",
    "        title = nrcData[i]['title']\n",
    "        # if we are starting a new Book\n",
    "        if title in bookStarts and title != bookStarts[book - 1]:\n",
    "            book += 1\n",
    "            pages.append(get_end_of_book_page(i, bookTitles[book], nrcData, vaderData))\n",
    "        bookTitle = bookTitles[book]\n",
    "        plots = get_plots_from_sentiment_data(nrcData[i], vaderData[i])\n",
    "        page = { \"title\": title, \"bookTitle\": bookTitle, \"plots\": plots }\n",
    "        pages.append(page)\n",
    "    \n",
    "    # if this is the last episode\n",
    "    if i == (totalEps - 1):\n",
    "        pages.append(get_end_of_book_page(i, bookTitle, nrcData[i], vaderData[i]))\n",
    "        pages.append(get_end_of_series_page(nrcData, vaderData))\n",
    "    \n",
    "    return pages"
   ]
  },
  {
   "cell_type": "markdown",
   "metadata": {},
   "source": [
    "Okay now time to do the work.\n",
    "\n",
    "Generate the pages and save chart data as a json file."
   ]
  },
  {
   "cell_type": "code",
   "execution_count": null,
   "metadata": {},
   "outputs": [],
   "source": [
    "# get NRC and Vader data by episode\n",
    "nrcEmotionData = open_json_as_dict('data/avatar-episodes-nrc-emotion.json')['episodes']\n",
    "vaderScoreData = open_json_as_dict('data/avatar-episodes-vader-scores.json')['episodes']\n",
    "\n",
    "# generate page data\n",
    "pages = { \"pages\": generate_chart_data(nrcEmotionData, vaderScoreData) }\n",
    "\n",
    "# save the data as json file\n",
    "save_json(pages, 'data/avatar-chart-data.json')"
   ]
  },
  {
   "cell_type": "code",
   "execution_count": null,
   "metadata": {},
   "outputs": [],
   "source": []
  }
 ],
 "metadata": {
  "kernelspec": {
   "display_name": "Python 3",
   "language": "python",
   "name": "python3"
  },
  "language_info": {
   "codemirror_mode": {
    "name": "ipython",
    "version": 3
   },
   "file_extension": ".py",
   "mimetype": "text/x-python",
   "name": "python",
   "nbconvert_exporter": "python",
   "pygments_lexer": "ipython3",
   "version": "3.6.9"
  }
 },
 "nbformat": 4,
 "nbformat_minor": 4
}
