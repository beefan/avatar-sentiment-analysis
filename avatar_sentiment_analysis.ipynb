{
 "cells": [
  {
   "cell_type": "markdown",
   "metadata": {},
   "source": [
    "# Avatar the Last Air Bender \n",
    "## Sentiment Analysis of Characters, plot over time"
   ]
  },
  {
   "cell_type": "markdown",
   "metadata": {},
   "source": [
    "### Step One: Scrape The Fandom Wiki from Transcript text"
   ]
  },
  {
   "cell_type": "markdown",
   "metadata": {},
   "source": [
    "First, we do our imports and define some helper functions."
   ]
  },
  {
   "cell_type": "code",
   "execution_count": 51,
   "metadata": {},
   "outputs": [],
   "source": [
    "# import url request library\n",
    "import urllib.request\n",
    "# import regular expression library\n",
    "import re\n",
    "# import web scraping library\n",
    "from bs4 import BeautifulSoup\n",
    "\n",
    "# Define a function to get the html content of a url.\n",
    "def html_from_url(url):\n",
    "  fp = urllib.request.urlopen(url)\n",
    "  mybytes = fp.read()\n",
    "  fp.close()\n",
    "  return mybytes.decode(\"utf8\")\n",
    "\n",
    "# Define a function to make a full url to the transcript from a links href tag\n",
    "def make_link(aTag):\n",
    "  return \"https://avatar.fandom.com\" + aTag['href']"
   ]
  },
  {
   "cell_type": "markdown",
   "metadata": {},
   "source": [
    "Okay, now we should get the html doc from the fandom wiki transcripts page\n",
    "\n",
    "We will use this document to find the links to all the transcripts. "
   ]
  },
  {
   "cell_type": "code",
   "execution_count": 34,
   "metadata": {},
   "outputs": [],
   "source": [
    "def get_avatar_fan_wiki_soup():\n",
    "    wikiURL = \"https://avatar.fandom.com/wiki/Avatar_Wiki:Transcripts\"\n",
    "    transcriptSoup = BeautifulSoup(html_from_url(wikiURL), \"html.parser\")\n",
    "    return transcriptSoup\n",
    "\n",
    "avatarTranscriptSoup = get_avatar_fan_wiki_soup()"
   ]
  },
  {
   "cell_type": "markdown",
   "metadata": {},
   "source": [
    "Now we will scrape that document to get all the transcript links.\n",
    "\n",
    "First let's define a function to determine if a link is a transcript link.\n",
    "And if it's a link from Avatar Books 1-3"
   ]
  },
  {
   "cell_type": "code",
   "execution_count": 88,
   "metadata": {},
   "outputs": [],
   "source": [
    "def is_transcript_link(tag):\n",
    "  isLink = tag.has_attr('href') and tag.has_attr('title')\n",
    "  if not isLink:\n",
    "    return False\n",
    "  \n",
    "  isTranscript = ('Transcript' in tag['title'])\n",
    "  if not isTranscript:\n",
    "    return False\n",
    "\n",
    "  headerId = ''\n",
    "  for parent in tag.parents:\n",
    "    prSib = parent.previous_sibling\n",
    "    prPrSib = parent.previous_sibling.previous_sibling if prSib else None\n",
    "    if prPrSib and prPrSib.name == 'h3':\n",
    "        headerId = prPrSib.contents[0]['id']\n",
    "        break\n",
    "\n",
    "  result = re.compile('Book_One:_Water|Book_Two:_Earth|Book_Three:_Fire').search(headerId)\n",
    "  return result"
   ]
  },
  {
   "cell_type": "markdown",
   "metadata": {},
   "source": [
    "Time to define a function to scrape our html document for desired links. \n",
    "\n",
    "Then run it."
   ]
  },
  {
   "cell_type": "code",
   "execution_count": 89,
   "metadata": {},
   "outputs": [],
   "source": [
    "def get_transcript_links(transcriptSoup):\n",
    "  transcriptLinkElements = transcriptSoup.find_all(is_transcript_link)\n",
    "  transcriptLinks = []\n",
    "\n",
    "  for elem in transcriptLinkElements:\n",
    "    transcriptLinks.append(make_link(elem))\n",
    "  return transcriptLinks\n",
    "\n",
    "transcriptLinks = get_transcript_links(avatarTranscriptSoup)"
   ]
  },
  {
   "cell_type": "markdown",
   "metadata": {},
   "source": [
    "Since we should have the links now, lets check our data."
   ]
  },
  {
   "cell_type": "code",
   "execution_count": 90,
   "metadata": {},
   "outputs": [
    {
     "name": "stdout",
     "output_type": "stream",
     "text": [
      "https://avatar.fandom.com/wiki/Transcript:The_Boy_in_the_Iceberg\n",
      "https://avatar.fandom.com/wiki/Transcript:The_Avatar_Returns\n",
      "https://avatar.fandom.com/wiki/Transcript:The_Southern_Air_Temple\n",
      "https://avatar.fandom.com/wiki/Transcript:The_Warriors_of_Kyoshi\n",
      "https://avatar.fandom.com/wiki/Transcript:The_King_of_Omashu\n",
      "https://avatar.fandom.com/wiki/Transcript:Imprisoned\n",
      "https://avatar.fandom.com/wiki/Transcript:Winter_Solstice,_Part_1:_The_Spirit_World\n",
      "https://avatar.fandom.com/wiki/Transcript:Winter_Solstice,_Part_2:_Avatar_Roku\n",
      "https://avatar.fandom.com/wiki/Transcript:The_Waterbending_Scroll\n",
      "https://avatar.fandom.com/wiki/Transcript:Jet_(episode)\n",
      "https://avatar.fandom.com/wiki/Transcript:The_Great_Divide\n",
      "https://avatar.fandom.com/wiki/Transcript:The_Storm\n",
      "https://avatar.fandom.com/wiki/Transcript:The_Blue_Spirit\n",
      "https://avatar.fandom.com/wiki/Transcript:The_Fortuneteller\n",
      "https://avatar.fandom.com/wiki/Transcript:Bato_of_the_Water_Tribe\n",
      "https://avatar.fandom.com/wiki/Transcript:The_Deserter\n",
      "https://avatar.fandom.com/wiki/Transcript:The_Northern_Air_Temple\n",
      "https://avatar.fandom.com/wiki/Transcript:The_Northern_Air_Temple_(commentary)\n",
      "https://avatar.fandom.com/wiki/Transcript:The_Waterbending_Master\n",
      "https://avatar.fandom.com/wiki/Transcript:The_Waterbending_Master_(commentary)\n",
      "https://avatar.fandom.com/wiki/Transcript:The_Siege_of_the_North,_Part_1\n",
      "https://avatar.fandom.com/wiki/Transcript:The_Siege_of_the_North,_Part_2\n",
      "https://avatar.fandom.com/wiki/Transcript:The_Avatar_State\n",
      "https://avatar.fandom.com/wiki/Transcript:The_Cave_of_Two_Lovers\n",
      "https://avatar.fandom.com/wiki/Transcript:Return_to_Omashu\n",
      "https://avatar.fandom.com/wiki/Transcript:The_Swamp\n",
      "https://avatar.fandom.com/wiki/Transcript:Avatar_Day\n",
      "https://avatar.fandom.com/wiki/Transcript:The_Blind_Bandit\n",
      "https://avatar.fandom.com/wiki/Transcript:Zuko_Alone\n",
      "https://avatar.fandom.com/wiki/Transcript:The_Chase\n",
      "https://avatar.fandom.com/wiki/Transcript:Bitter_Work\n",
      "https://avatar.fandom.com/wiki/Transcript:The_Library\n",
      "https://avatar.fandom.com/wiki/Transcript:The_Desert\n",
      "https://avatar.fandom.com/wiki/Transcript:The_Serpent%27s_Pass\n",
      "https://avatar.fandom.com/wiki/Transcript:The_Drill\n",
      "https://avatar.fandom.com/wiki/Transcript:City_of_Walls_and_Secrets\n",
      "https://avatar.fandom.com/wiki/Transcript:The_Tales_of_Ba_Sing_Se\n",
      "https://avatar.fandom.com/wiki/Transcript:Appa%27s_Lost_Days\n",
      "https://avatar.fandom.com/wiki/Transcript:Lake_Laogai_(episode)\n",
      "https://avatar.fandom.com/wiki/Transcript:The_Earth_King\n",
      "https://avatar.fandom.com/wiki/Transcript:The_Guru\n",
      "https://avatar.fandom.com/wiki/Transcript:The_Crossroads_of_Destiny\n",
      "https://avatar.fandom.com/wiki/Transcript:Escape_from_the_Spirit_World\n",
      "https://avatar.fandom.com/wiki/Transcript:The_Awakening\n",
      "https://avatar.fandom.com/wiki/Transcript:The_Headband\n",
      "https://avatar.fandom.com/wiki/Transcript:The_Painted_Lady\n",
      "https://avatar.fandom.com/wiki/Transcript:Sokka%27s_Master\n",
      "https://avatar.fandom.com/wiki/Transcript:The_Beach\n",
      "https://avatar.fandom.com/wiki/Transcript:The_Avatar_and_the_Fire_Lord\n",
      "https://avatar.fandom.com/wiki/Transcript:The_Runaway\n",
      "https://avatar.fandom.com/wiki/Transcript:The_Puppetmaster\n",
      "https://avatar.fandom.com/wiki/Transcript:Nightmares_and_Daydreams\n",
      "https://avatar.fandom.com/wiki/Transcript:The_Day_of_Black_Sun,_Part_1:_The_Invasion\n",
      "https://avatar.fandom.com/wiki/Transcript:The_Day_of_Black_Sun,_Part_2:_The_Eclipse\n",
      "https://avatar.fandom.com/wiki/Transcript:The_Western_Air_Temple\n",
      "https://avatar.fandom.com/wiki/Transcript:The_Firebending_Masters\n",
      "https://avatar.fandom.com/wiki/Transcript:The_Boiling_Rock,_Part_1\n",
      "https://avatar.fandom.com/wiki/Transcript:The_Boiling_Rock,_Part_2\n",
      "https://avatar.fandom.com/wiki/Transcript:The_Southern_Raiders\n",
      "https://avatar.fandom.com/wiki/Transcript:The_Ember_Island_Players\n",
      "https://avatar.fandom.com/wiki/Transcript:Sozin%27s_Comet,_Part_1:_The_Phoenix_King\n",
      "https://avatar.fandom.com/wiki/Transcript:Sozin%27s_Comet,_Part_2:_The_Old_Masters\n",
      "https://avatar.fandom.com/wiki/Transcript:Sozin%27s_Comet,_Part_3:_Into_the_Inferno\n",
      "https://avatar.fandom.com/wiki/Transcript:Sozin%27s_Comet,_Part_4:_Avatar_Aang\n"
     ]
    }
   ],
   "source": [
    "print('\\n'.join([str(x) for x in transcriptLinks]))"
   ]
  },
  {
   "cell_type": "markdown",
   "metadata": {},
   "source": [
    "### Okay So now we have the links to all of the avatar transcripts. We now need get the data from each link"
   ]
  },
  {
   "cell_type": "markdown",
   "metadata": {},
   "source": [
    "Let's start be defining an Episode Object"
   ]
  },
  {
   "cell_type": "code",
   "execution_count": 115,
   "metadata": {},
   "outputs": [],
   "source": [
    "class Episode:\n",
    "  def __init__(self, title, lines):\n",
    "    self.title = title\n",
    "    self.lines = lines"
   ]
  },
  {
   "cell_type": "markdown",
   "metadata": {},
   "source": [
    "Now define a function to convert a link to an episode object"
   ]
  },
  {
   "cell_type": "code",
   "execution_count": 121,
   "metadata": {},
   "outputs": [],
   "source": [
    "def link_to_episode(link):\n",
    "    soup = BeautifulSoup(html_from_url(link), \"html.parser\")\n",
    "    title = soup.select('.page-header__title')[0].text[11:]\n",
    "    lines = []\n",
    "    for tr in soup.select('.wikitable > tr'):\n",
    "        if (tr.th):\n",
    "            lines.append([tr.th.text.strip(), tr.td.text.strip()])\n",
    "    return Episode(title, lines)"
   ]
  },
  {
   "cell_type": "markdown",
   "metadata": {},
   "source": [
    "We'll iterate through the list of links and convert them all to Episode objects."
   ]
  },
  {
   "cell_type": "code",
   "execution_count": 122,
   "metadata": {},
   "outputs": [],
   "source": [
    "avatarEpisodes = [link_to_episode(link) for link in transcriptLinks]"
   ]
  },
  {
   "cell_type": "markdown",
   "metadata": {},
   "source": [
    "Let's see if our data looks good.\n",
    "Check out the length to see if there are enough episodes.\n",
    "Check out the first episode to see if its formatted correctly. "
   ]
  },
  {
   "cell_type": "code",
   "execution_count": 124,
   "metadata": {},
   "outputs": [
    {
     "ename": "AttributeError",
     "evalue": "'list' object has no attribute 'size'",
     "output_type": "error",
     "traceback": [
      "\u001b[0;31m---------------------------------------------------------------------------\u001b[0m",
      "\u001b[0;31mAttributeError\u001b[0m                            Traceback (most recent call last)",
      "\u001b[0;32m<ipython-input-124-5c29432f5012>\u001b[0m in \u001b[0;36m<module>\u001b[0;34m\u001b[0m\n\u001b[0;32m----> 1\u001b[0;31m \u001b[0mprint\u001b[0m\u001b[0;34m(\u001b[0m\u001b[0mavatarEpisodes\u001b[0m\u001b[0;34m.\u001b[0m\u001b[0msize\u001b[0m\u001b[0;34m)\u001b[0m\u001b[0;34m\u001b[0m\u001b[0;34m\u001b[0m\u001b[0m\n\u001b[0m\u001b[1;32m      2\u001b[0m \u001b[0mprint\u001b[0m\u001b[0;34m(\u001b[0m\u001b[0mavatarEpisodes\u001b[0m\u001b[0;34m[\u001b[0m\u001b[0;36m0\u001b[0m\u001b[0;34m]\u001b[0m\u001b[0;34m.\u001b[0m\u001b[0mtitle\u001b[0m\u001b[0;34m)\u001b[0m\u001b[0;34m\u001b[0m\u001b[0;34m\u001b[0m\u001b[0m\n\u001b[1;32m      3\u001b[0m \u001b[0mprint\u001b[0m\u001b[0;34m(\u001b[0m\u001b[0mavatarEpisodes\u001b[0m\u001b[0;34m[\u001b[0m\u001b[0;36m0\u001b[0m\u001b[0;34m]\u001b[0m\u001b[0;34m.\u001b[0m\u001b[0mlines\u001b[0m\u001b[0;34m)\u001b[0m\u001b[0;34m\u001b[0m\u001b[0;34m\u001b[0m\u001b[0m\n",
      "\u001b[0;31mAttributeError\u001b[0m: 'list' object has no attribute 'size'"
     ]
    }
   ],
   "source": [
    "print(avatarEpisodes.size)\n",
    "print(avatarEpisodes[0].title)\n",
    "print(avatarEpisodes[0].lines)"
   ]
  },
  {
   "cell_type": "code",
   "execution_count": null,
   "metadata": {},
   "outputs": [],
   "source": [
    "### Now we have all the Episodes as python objects"
   ]
  }
 ],
 "metadata": {
  "kernelspec": {
   "display_name": "Python 3",
   "language": "python",
   "name": "python3"
  },
  "language_info": {
   "codemirror_mode": {
    "name": "ipython",
    "version": 3
   },
   "file_extension": ".py",
   "mimetype": "text/x-python",
   "name": "python",
   "nbconvert_exporter": "python",
   "pygments_lexer": "ipython3",
   "version": "3.6.9"
  }
 },
 "nbformat": 4,
 "nbformat_minor": 4
}
