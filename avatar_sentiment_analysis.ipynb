{
 "cells": [
  {
   "cell_type": "markdown",
   "metadata": {},
   "source": [
    "# Avatar the Last Air Bender \n",
    "## *Sentiment Analysis of Characters, plot over time*"
   ]
  },
  {
   "cell_type": "markdown",
   "metadata": {},
   "source": [
    "## Step One: Scrape The Fandom Wiki from Transcript text"
   ]
  },
  {
   "cell_type": "markdown",
   "metadata": {},
   "source": [
    "First, we do our imports and define some helper functions."
   ]
  },
  {
   "cell_type": "code",
   "execution_count": 51,
   "metadata": {},
   "outputs": [],
   "source": [
    "# import url request library\n",
    "import urllib.request\n",
    "# import regular expression library\n",
    "import re\n",
    "# import web scraping library\n",
    "from bs4 import BeautifulSoup\n",
    "\n",
    "# Define a function to get the html content of a url.\n",
    "def html_from_url(url):\n",
    "  fp = urllib.request.urlopen(url)\n",
    "  mybytes = fp.read()\n",
    "  fp.close()\n",
    "  return mybytes.decode(\"utf8\")\n",
    "\n",
    "# Define a function to make a full url to the transcript from a links href tag\n",
    "def make_link(aTag):\n",
    "  return \"https://avatar.fandom.com\" + aTag['href']"
   ]
  },
  {
   "cell_type": "markdown",
   "metadata": {},
   "source": [
    "Okay, now we should get the html doc from the fandom wiki transcripts page\n",
    "\n",
    "We will use this document to find the links to all the transcripts. "
   ]
  },
  {
   "cell_type": "code",
   "execution_count": 34,
   "metadata": {},
   "outputs": [],
   "source": [
    "def get_avatar_fan_wiki_soup():\n",
    "    wikiURL = \"https://avatar.fandom.com/wiki/Avatar_Wiki:Transcripts\"\n",
    "    transcriptSoup = BeautifulSoup(html_from_url(wikiURL), \"html.parser\")\n",
    "    return transcriptSoup\n",
    "\n",
    "avatarTranscriptSoup = get_avatar_fan_wiki_soup()"
   ]
  },
  {
   "cell_type": "markdown",
   "metadata": {},
   "source": [
    "Now we will scrape that document to get all the transcript links.\n",
    "\n",
    "First let's define a function to determine if a link is a transcript link.\n",
    "And if it's a link from Avatar Books 1-3"
   ]
  },
  {
   "cell_type": "code",
   "execution_count": 88,
   "metadata": {},
   "outputs": [],
   "source": [
    "def is_transcript_link(tag):\n",
    "  isLink = tag.has_attr('href') and tag.has_attr('title')\n",
    "  if not isLink:\n",
    "    return False\n",
    "  \n",
    "  isTranscript = ('Transcript' in tag['title'])\n",
    "  if not isTranscript:\n",
    "    return False\n",
    "\n",
    "  headerId = ''\n",
    "  for parent in tag.parents:\n",
    "    prSib = parent.previous_sibling\n",
    "    prPrSib = parent.previous_sibling.previous_sibling if prSib else None\n",
    "    if prPrSib and prPrSib.name == 'h3':\n",
    "        headerId = prPrSib.contents[0]['id']\n",
    "        break\n",
    "\n",
    "  result = re.compile('Book_One:_Water|Book_Two:_Earth|Book_Three:_Fire').search(headerId)\n",
    "  return result"
   ]
  },
  {
   "cell_type": "markdown",
   "metadata": {},
   "source": [
    "Time to define a function to scrape our html document for desired links. \n",
    "\n",
    "Then run it."
   ]
  },
  {
   "cell_type": "code",
   "execution_count": 89,
   "metadata": {},
   "outputs": [],
   "source": [
    "def get_transcript_links(transcriptSoup):\n",
    "  transcriptLinkElements = transcriptSoup.find_all(is_transcript_link)\n",
    "  transcriptLinks = []\n",
    "\n",
    "  for elem in transcriptLinkElements:\n",
    "    transcriptLinks.append(make_link(elem))\n",
    "  return transcriptLinks\n",
    "\n",
    "transcriptLinks = get_transcript_links(avatarTranscriptSoup)"
   ]
  },
  {
   "cell_type": "markdown",
   "metadata": {},
   "source": [
    "Since we should have the links now, lets check our data."
   ]
  },
  {
   "cell_type": "code",
   "execution_count": 90,
   "metadata": {},
   "outputs": [
    {
     "name": "stdout",
     "output_type": "stream",
     "text": [
      "https://avatar.fandom.com/wiki/Transcript:The_Boy_in_the_Iceberg\n",
      "https://avatar.fandom.com/wiki/Transcript:The_Avatar_Returns\n",
      "https://avatar.fandom.com/wiki/Transcript:The_Southern_Air_Temple\n",
      "https://avatar.fandom.com/wiki/Transcript:The_Warriors_of_Kyoshi\n",
      "https://avatar.fandom.com/wiki/Transcript:The_King_of_Omashu\n",
      "https://avatar.fandom.com/wiki/Transcript:Imprisoned\n",
      "https://avatar.fandom.com/wiki/Transcript:Winter_Solstice,_Part_1:_The_Spirit_World\n",
      "https://avatar.fandom.com/wiki/Transcript:Winter_Solstice,_Part_2:_Avatar_Roku\n",
      "https://avatar.fandom.com/wiki/Transcript:The_Waterbending_Scroll\n",
      "https://avatar.fandom.com/wiki/Transcript:Jet_(episode)\n",
      "https://avatar.fandom.com/wiki/Transcript:The_Great_Divide\n",
      "https://avatar.fandom.com/wiki/Transcript:The_Storm\n",
      "https://avatar.fandom.com/wiki/Transcript:The_Blue_Spirit\n",
      "https://avatar.fandom.com/wiki/Transcript:The_Fortuneteller\n",
      "https://avatar.fandom.com/wiki/Transcript:Bato_of_the_Water_Tribe\n",
      "https://avatar.fandom.com/wiki/Transcript:The_Deserter\n",
      "https://avatar.fandom.com/wiki/Transcript:The_Northern_Air_Temple\n",
      "https://avatar.fandom.com/wiki/Transcript:The_Northern_Air_Temple_(commentary)\n",
      "https://avatar.fandom.com/wiki/Transcript:The_Waterbending_Master\n",
      "https://avatar.fandom.com/wiki/Transcript:The_Waterbending_Master_(commentary)\n",
      "https://avatar.fandom.com/wiki/Transcript:The_Siege_of_the_North,_Part_1\n",
      "https://avatar.fandom.com/wiki/Transcript:The_Siege_of_the_North,_Part_2\n",
      "https://avatar.fandom.com/wiki/Transcript:The_Avatar_State\n",
      "https://avatar.fandom.com/wiki/Transcript:The_Cave_of_Two_Lovers\n",
      "https://avatar.fandom.com/wiki/Transcript:Return_to_Omashu\n",
      "https://avatar.fandom.com/wiki/Transcript:The_Swamp\n",
      "https://avatar.fandom.com/wiki/Transcript:Avatar_Day\n",
      "https://avatar.fandom.com/wiki/Transcript:The_Blind_Bandit\n",
      "https://avatar.fandom.com/wiki/Transcript:Zuko_Alone\n",
      "https://avatar.fandom.com/wiki/Transcript:The_Chase\n",
      "https://avatar.fandom.com/wiki/Transcript:Bitter_Work\n",
      "https://avatar.fandom.com/wiki/Transcript:The_Library\n",
      "https://avatar.fandom.com/wiki/Transcript:The_Desert\n",
      "https://avatar.fandom.com/wiki/Transcript:The_Serpent%27s_Pass\n",
      "https://avatar.fandom.com/wiki/Transcript:The_Drill\n",
      "https://avatar.fandom.com/wiki/Transcript:City_of_Walls_and_Secrets\n",
      "https://avatar.fandom.com/wiki/Transcript:The_Tales_of_Ba_Sing_Se\n",
      "https://avatar.fandom.com/wiki/Transcript:Appa%27s_Lost_Days\n",
      "https://avatar.fandom.com/wiki/Transcript:Lake_Laogai_(episode)\n",
      "https://avatar.fandom.com/wiki/Transcript:The_Earth_King\n",
      "https://avatar.fandom.com/wiki/Transcript:The_Guru\n",
      "https://avatar.fandom.com/wiki/Transcript:The_Crossroads_of_Destiny\n",
      "https://avatar.fandom.com/wiki/Transcript:Escape_from_the_Spirit_World\n",
      "https://avatar.fandom.com/wiki/Transcript:The_Awakening\n",
      "https://avatar.fandom.com/wiki/Transcript:The_Headband\n",
      "https://avatar.fandom.com/wiki/Transcript:The_Painted_Lady\n",
      "https://avatar.fandom.com/wiki/Transcript:Sokka%27s_Master\n",
      "https://avatar.fandom.com/wiki/Transcript:The_Beach\n",
      "https://avatar.fandom.com/wiki/Transcript:The_Avatar_and_the_Fire_Lord\n",
      "https://avatar.fandom.com/wiki/Transcript:The_Runaway\n",
      "https://avatar.fandom.com/wiki/Transcript:The_Puppetmaster\n",
      "https://avatar.fandom.com/wiki/Transcript:Nightmares_and_Daydreams\n",
      "https://avatar.fandom.com/wiki/Transcript:The_Day_of_Black_Sun,_Part_1:_The_Invasion\n",
      "https://avatar.fandom.com/wiki/Transcript:The_Day_of_Black_Sun,_Part_2:_The_Eclipse\n",
      "https://avatar.fandom.com/wiki/Transcript:The_Western_Air_Temple\n",
      "https://avatar.fandom.com/wiki/Transcript:The_Firebending_Masters\n",
      "https://avatar.fandom.com/wiki/Transcript:The_Boiling_Rock,_Part_1\n",
      "https://avatar.fandom.com/wiki/Transcript:The_Boiling_Rock,_Part_2\n",
      "https://avatar.fandom.com/wiki/Transcript:The_Southern_Raiders\n",
      "https://avatar.fandom.com/wiki/Transcript:The_Ember_Island_Players\n",
      "https://avatar.fandom.com/wiki/Transcript:Sozin%27s_Comet,_Part_1:_The_Phoenix_King\n",
      "https://avatar.fandom.com/wiki/Transcript:Sozin%27s_Comet,_Part_2:_The_Old_Masters\n",
      "https://avatar.fandom.com/wiki/Transcript:Sozin%27s_Comet,_Part_3:_Into_the_Inferno\n",
      "https://avatar.fandom.com/wiki/Transcript:Sozin%27s_Comet,_Part_4:_Avatar_Aang\n"
     ]
    }
   ],
   "source": [
    "print('\\n'.join([str(x) for x in transcriptLinks]))"
   ]
  },
  {
   "cell_type": "markdown",
   "metadata": {},
   "source": [
    "### Okay So now we have the links to all of the avatar transcripts. We now need get the data from each link"
   ]
  },
  {
   "cell_type": "markdown",
   "metadata": {},
   "source": [
    "Let's start be defining an Episode Object"
   ]
  },
  {
   "cell_type": "code",
   "execution_count": 115,
   "metadata": {},
   "outputs": [],
   "source": [
    "class Episode:\n",
    "  def __init__(self, title, lines):\n",
    "    self.title = title\n",
    "    self.lines = lines"
   ]
  },
  {
   "cell_type": "markdown",
   "metadata": {},
   "source": [
    "Now define a function to convert a link to an episode object"
   ]
  },
  {
   "cell_type": "code",
   "execution_count": 136,
   "metadata": {},
   "outputs": [],
   "source": [
    "def link_to_episode(link):\n",
    "    soup = BeautifulSoup(html_from_url(link), \"html.parser\")\n",
    "    title = soup.select('.page-header__title')[0].text[11:]\n",
    "    lines = []\n",
    "    for tr in soup.select('.wikitable > tr'):\n",
    "        if (tr.th):\n",
    "            lines.append([tr.th.text.strip(), tr.td.text.strip()])\n",
    "    return Episode(title, lines)"
   ]
  },
  {
   "cell_type": "markdown",
   "metadata": {},
   "source": [
    "We'll iterate through the list of links and convert them all to Episode objects."
   ]
  },
  {
   "cell_type": "code",
   "execution_count": null,
   "metadata": {},
   "outputs": [],
   "source": [
    "avatarEpisodes = [link_to_episode(link) for link in transcriptLinks]"
   ]
  },
  {
   "cell_type": "markdown",
   "metadata": {},
   "source": [
    "Let's see if our data looks good.\n",
    "Check out the length to see if there are enough episodes.\n",
    "Check out the first episode to see if its formatted correctly. "
   ]
  },
  {
   "cell_type": "code",
   "execution_count": 138,
   "metadata": {
    "scrolled": false
   },
   "outputs": [
    {
     "name": "stdout",
     "output_type": "stream",
     "text": [
      "64\n",
      "The Boy in the Iceberg\n",
      "[['Katara', \"Water. Earth. Fire. Air. My grandmother used to tell me stories about the old days: a time of peace when the Avatar kept balance between the Water Tribes, Earth Kingdom, Fire Nation and Air Nomads. But that all changed when the Fire Nation attacked. Only the Avatar mastered all four elements; only he could stop the ruthless firebenders. But when the world needed him most, he vanished. A hundred years have passed, and the Fire Nation is nearing victory in the war. Two years ago, my father and the men of my tribe journeyed to the Earth Kingdom to help fight against the Fire Nation, leaving me and my brother to look after our tribe. Some people believe that the Avatar was never reborn into the Air Nomads and that the cycle is broken, but I haven't lost hope. I still believe that, somehow, the Avatar will return to save the world.\"], ['Sokka', \"It's not getting away from me this time. [Close-up of the boy as he grins confidently over his shoulder in the direction of the girl.] Watch and learn, Katara. This is how you catch a fish.\"], ['Katara', '[Happily surprised.] Sokka, look!'], ['Sokka', \"[Close-up of Sokka; whispering.] Sshh! Katara, you're going to scare it away. [A look of bliss adorns his face. He licks his lips and wiggles his fingers, not taking his eyes off the fish.] Mmmm ... I can already smell it cookin'.\"], ['Katara', '[Struggling with the water that passes right in front of her.] But, Sokka! I caught one!'], ['Katara', '[Exclaims indignantly.] Hey!'], ['Sokka', 'Why is it that every time you play with magic water, I get soaked?'], ['Katara', '[Cut to her face; she sighs lightly before answering in slight annoyance.] It\\'s not \"magic\", it\\'s waterbending! And it\\'s ...'], ['Sokka', 'Yeah, yeah, \"an ancient art unique to our culture\", blah, blah, blah. Look, I\\'m just saying [Grabbing his warrior\\'s wolf knot with his left hand as he turns away from her, wringing the water out of it. Meanwhile, Katara has crossed her arms.] that if I had weird powers, I\\'d keep my weirdness to myself.'], ['Katara', \"[Cut to her face as she raises an eyebrow skeptically, arms still crossed.] You're calling me weird? I'm not the one who makes muscles at myself every time I see my reflection in the water!\"], ['Katara', 'Watch out! Go left! Go left!'], ['Katara', '[A touch of bitterness in her voice.] You call that left?'], ['Sokka', \"You don't like my steering? Well, maybe you should've [He waves his hands, mockingly imitating waterbending.] waterbended us out of the ice.\"], ['Katara', \"[Indignantly.] So it's my fault?\"], ['Sokka', \"[Annoyed.] I knew I should've left you home! [Cut to a close-up of the siblings; Katara is staring down at her brother in anger while he rants calmly.] Leave it to a girl to screw things up!\"], ['Katara', \"You are the most sexist, [She brings her hands up to her head and swings them back down and behind her in her rage; the movement creates a small wave of water behind her.] immature, [Hands raised back to her head.] nut brained ... [Swings her arms back down again, creating a slightly larger wave; she raises her hands back to her head during a brief loss for words.] I'm embarrassed [Throwing a hand upward, a short jet of water shoots upward as well.] to be related to you!\"], ['Katara', \"Ever since mom died, [Points to herself.] I've been doing all the work around camp while you've been off playing soldier!\"], ['Sokka', '[Pointing to the iceberg behind her, his voice subdued by fright.] Uh ... Katara ...'], ['Katara', \"[Close-up of a rage-fueled Katara as she continues her outburst, a finger pointed in Sokka's face.] I even wash all the clothes! Have you ever smelled your dirty socks? Let me tell you, not pleasant!\"], ['Sokka', '[In a screeching voice, his eyes open wide in fear.] Katara, settle down!'], ['Katara', \"No that's it! I'm done helping you! From now on, you're on your own!\"], ['Sokka', 'Okay, you\\'ve gone from \"weird\" to \"freakish\", [He releases her.] Katara.'], ['Katara', '[Astonished.] You mean I did that?'], ['Sokka', '[Sarcastically, glancing at her and smirking.] Yep. [Nudging her with his elbow.] Congratulations.'], ['Katara', \"He's alive! We have to help!\"], ['Sokka', \"Katara, get back here! [He grabs his spear from the ice and runs after Katara, who is already at the ice's edge.] We don't know what that thing is!\"], ['Zuko', 'Finally! [He turns around to face another person in uniform, who sits at a small table.] Uncle, do you realize what this means?!'], ['Iroh', \"[The man is playing some sort of card game. He answers calmly while looking over the tile he's holding toward his nephew.] I won't get to finish my game?\"], ['Zuko', '[Turning around again to face the light.] It means my search is about to come to an end.'], ['Zuko', '[Gestures at the light while facing his uncle again.] That light came from an incredibly powerful source! [The light dwindles and disappears.] It has to be him!'], ['Iroh', \"[With continuing disinterest and an air of skepticism.] Or it's just the celestial lights. We've been down this road before, Prince Zuko. [He looks at the tile in his hand, depicting the symbol of airbending.] I don't want you to get too excited over nothing. [He places it on a tile carrying the symbol of firebending and gestures toward the open place at the other side of the table while continuing in a relaxed voice.] Please, sit. Why don't you enjoy a cup of calming Jasmine tea?\"], ['Zuko', \"[Furiously, still facing Iroh.] I don't need any calming tea! I need to capture the Avatar! Helmsman, head a course for the light!\"], ['Sokka', '[Brandishing his spear in defense once again.] Stop!'], ['Katara', '[Waves the spear away. Annoyed.] Stop it!'], ['Aang', '[In a weak voice.] I need to ask you something ...'], ['Katara', 'What?'], ['Aang', 'Please ... come closer.'], ['Katara', '[Curiously.] What is it?'], ['Aang', '[In a clear, happy, hopeful tone.] Will you go penguin sledding with me?'], ['Katara', '[Awkwardly.] Uh, sure ... I-I guess.'], ['Aang', \"[Looking around and rubbing his head, while Katara scrambles on her feet.] What's going on here?\"], ['Sokka', \"[Aggressively.] You tell us! [Points at the top of the crater.] How did you get in the ice? And why aren't you frozen? [He pokes the boy in his side with his spear.]\"], ['Aang', \"[Lazily pushes the spear away.] I'm ... not sure.\"], ['Aang', '[Exclaims happily.] Appa! Are you all right? [He hangs down the side of the beast to look at its eyes, which are still closed.] Wake up, buddy.'], ['Aang', \"[Laughing cheerfully.] Ha, ha! You're okay!\"], ['Sokka', 'What is that thing?'], ['Aang', 'This is Appa, my flying bison.'], ['Sokka', '[Sarcastically.] Right, and this is Katara, my flying sister. [Katara shoots him an odd look.]'], ['Aang', \"[Cheerfully.] Don't worry, it'll wash out. [Green slime is hanging from Sokka's face to his glove, dripping down as he retracts his hand. Katara covers her mouth in disgust.] So do you guys live around here?\"], ['Sokka', \"[Pointing his spear accusingly again at Aang who is surprised to see the thing.] Don't answer that! Did you see that crazy bolt of light?! He was probably trying to signal the Fire Navy!\"], ['Katara', \"[Pushes Sokka's spear away again and addresses him sarcastically.] Oh yeah, I'm sure he's a spy for the Fire Navy. You can tell by that evil look in his eye. [Aang shoots the two an earnest grin.] The paranoid one is my brother, Sokka. You never told us your name.\"], ['Aang', \"I'm A ... a-a-a-Achoo! [The boy sneezes, creating an air blast that sends him soaring into the air. He lands on the ground, unharmed.] I'm Aang. [He sniffles a bit.]\"], ['Sokka', '[Total disbelief.] You just sneezed ... [Points to the sky.] and flew ten feet in the air!'], ['Aang', '[He looks questioningly toward the sky.] Really? It felt higher than that.'], ['Katara', \"[Gasps for air in comprehension.] You're an airbender!\"], ['Aang', 'Sure am!'], ['Sokka', \"Giant light beams, flying bison, airbenders ... [Walks away.] I think I got midnight sun madness. I'm going home to where stuff makes sense. [He realizes, however, that he is stranded in the middle of the ocean with no way home.]\"], ['Aang', 'Well, if you guys are stuck, Appa and I can give you a lift. [Aang airbends himself onto Appa.]'], ['Katara', \"We'd love a ride! Thanks! [Katara runs to the side of the bison.]\"], ['Sokka', \"Oh no! I'm not getting on that fluffy snot monster!\"], ['Katara', '[While climbing on top of Appa with the help of Aang.] Are you hoping some other kind of monster will come along and give you a ride home? You know, before you freeze to death?'], ['Aang', 'Okay, first time flyers, hold on tight! Appa, yip-yip!'], ['Aang', 'Come on, Appa. Yip-yip!'], ['Sokka', '[Sarcastically.] Wow, that was truly amazing ...'], ['Aang', \"[Katara shoots her brother an angry glance.] Appa's just a little tired. A little rest and he'll be soaring through the sky. You'll see. [Katara smiles at Aang, who returns this gesture. When she wants to move back, she realizes that he is still smiling at her.]\"], ['Katara', '[Uncomfortably.] Why are you smiling at me like that?'], ['Aang', 'Oh, I was smiling? [Surprised, Katara smiles back.]'], ['Iroh', \"I'm going to bed now. [Yawns and stretches.] Yep, a man needs his rest. [After a short pause, he abandons his try at a veiled suggestion and delivers his request more clearly, his tone tired.] Prince Zuko, you need some sleep. Even if you're right, and the Avatar is alive, you won't find him. Your father, grandfather and great-grandfather all tried and failed.\"], ['Zuko', \"Because their honor didn't hinge on the Avatar's capture. Mine does. This coward's hundred years in hiding are over.\"], ['Katara', 'Hey.'], ['Aang', \"Hey. What'cha thinkin' about?\"], ['Katara', 'I guess I was wondering, your being an airbender and all, if you had any idea what happened to the Avatar?'], ['Aang', \"Oh, no. I didn't know him. I mean, I knew people that knew him, but I didn't. Sorry. [He smiles weakly at Katara.]\"], ['Katara', 'Okay. Just curious. [She slants her eyes in disappointment for a second before smiling again at Aang.] Good night.'], ['Aang', 'Sleep tight.'], ['Katara', \"Aang? Aang! Wake up. [Aang shoots up, throwing the covers of his body and gasping for air. Katara perches beside him and stands up as she sees that Aang is awake.] It's okay, we're in the village now! Come on, get ready. [She points to the door of the tent.] Everyone's waiting to meet you.\"], ['Katara', 'Aang, this is the entire village. [Points to the line of villagers in front of them.] Entire village, Aang.'], ['Aang', '[Uncomfortably.] Uh, why are they all looking at me like that? Did Appa sneeze on me?'], ['Kanna', 'Well, no one has seen an airbender in a hundred years. We thought they were extinct, until my granddaughter and grandson found you.'], ['Aang', '[Shocked disbelief.] Extinct?'], ['Katara', '[Gesturing.] Aang, this is my grandmother.'], ['Kanna', 'Call me Gran-Gran.'], ['Sokka', \"[Annoyed.] What is this, a weapon? You can't stab anything with this!\"], ['Aang', \"[Aang uses a small air current to get his staff back.] It's not for stabbing! It's for airbending. [He opens his staff into a glider, making Sokka gasp in fright and cover his head with his hands.]\"], ['Village girl', '[Excited.] Magic trick! Do it again!'], ['Aang', 'Not magic, airbending. [He moves his glider around him, visually demonstrating what he is talking about.] It lets me control the air currents around my glider and fly.'], ['Sokka', \"[Mockingly states his disbelief.] Ya know, last time I checked, humans can't fly!\"], ['Aang', \"[Accepting Sokka's challenge, smiling.] Check again!\"], ['Village girl', \"[In admiration.] He's flying!\"], ['Village girl', \"It's amazing!\"], ['Sokka', '[Shocked.] My watchtower!'], ['Katara', '[Offering her hand to pull him out of the snow.] That was amazing!'], ['Sokka', \"[Annoyed.] Great. You're an airbender, Katara's a waterbender. Together you can just waste time all day long. [He wedges himself free from underneath the weight of the snow and stalks off.]\"], ['Aang', \"[Surprised and with admiration.] You're a waterbender?\"], ['Katara', '[Nervously.] Well, sort of. Not yet.'], ['Kanna', 'All right, no more playing. Come on, Katara, you have chores.'], ['Katara', \"[Excitedly.] I told you, he's the real thing Gran-Gran! I finally found a bender to teach me!\"], ['Kanna', '[Calmly.] Katara, try not to put all your hopes in this boy.'], ['Katara', \"But he's special! I can tell! [Clenches her fist and closes her eyes in hope.] I sense he's filled with much wisdom.\"], ['Aang', '[Muffled.] See? Now my tongue is stuck to my staff!'], ['Iroh', '[Sternly.] Again.'], ['Iroh', '[Sighs while he gets up.] No! [Zuko lowers his arms and looks at his uncle.] Power in firebending comes from the breath [Iroh moves his both hand up in front of him to emphasize the breathing motion.], not the muscles. [He stretches his left arm out as if he was sending a fire blast.] The breath becomes energy in the body. The energy extends past your limbs and becomes: fire! [Iroh directs a fire blast at his nephew that evaporates just before it would scorch him.] Get it right this time.'], ['Zuko', \"[With suppressed anger, he walks toward his uncle and addresses him.] Enough! I've been drilling this sequence all day. Teach me the next set! I'm more than ready!\"], ['Iroh', 'No, you are impatient. [He sits down again on his chair.] You have yet to master your basics. [He yells his order.] Drill it again!'], ['Zuko', \"[The suppressed anger is very apparent in his voice.] The sages tell us that the Avatar is the last airbender. [Close-up of Iroh, who does not look pleased with the attitude of his nephew.] He must be over a hundred years old by now. He's had a century to master the four elements! I'll need more than basic firebending to defeat him. [Starts to yell at his uncle.] You will teach me the advanced set!\"], ['Iroh', '[Concedes reluctantly. On a dire tone.] Very well, [His expression changes completely to one of delight as he picks something up from the ground.] but first, I must finish my roast duck. [He quickly munches down the roast duck, much to the dismay of Zuko.]'], ['Sokka', '[With a stern expression.] Now men, it\\'s important that you show no fear when you face a firebender. [He brings out his club and holds it proudly.] In the Water Tribe, we fight to the last man standing! For without courage, how can we call ourselves men? [He clutches his fist to emphasize the word \"men\" as he stares down the people in front of him.]'], ['Southern Water Tribe boy', '[Waving his hand in the air.] I gotta pee!'], ['Sokka', \"[Angrily.] Listen! Until your fathers return from the War, they're counting on you to be the men of this tribe, and that means no potty breaks! [He makes some wide arm gestures to emphasize his words again.]\"], ['Southern Water Tribe boy', 'But I really gotta go!'], ['Sokka', '[Sighs.] Okay, who else has to go?'], ['Katara', '[Runs up to Sokka as the children leave. In a worried tone.] Have you seen Aang? Gran-Gran said he disappeared over an hour ago.'], ['Aang', '[Amused.] Wow! Everything freezes in there!'], ['Sokka', '[Annoyed.] Uh! [Angrily points at Aang.] Katara, get him out of here! This lesson is for warriors only!'], ['Village boy', 'Whee!'], ['Sokka', \"[Yelling angrily.] Stop! Stop it right now! [The laughter of the children is stifled immediately and Appa turns his head to look at Sokka, who accusingly directs his anger to Aang.] What's wrong with you?! We don't have time for fun and games with the War going on!\"], ['Aang', \"[Slides down from Appa's head.] What war? What are you talking about?\"], ['Sokka', \"[Raises one eyebrow in disbelief.] You're kidding, right?\"], ['Aang', '[Exclaims enthusiastically.] Penguin!'], ['Sokka', \"He's kidding, right?\"], ['Katara', 'Aang?'], ['Aang', '[Chasing the penguins while laughing.] Hey, come on little guy. Wanna go sledding? [He jumps at a penguin, but the animal evades his attempt and Aang belly flops into the snow. He turns on his back and quickly erects himself with his airbending as Katara comes up beside him.] Heh heh. I have a way with animals.'], ['Katara', \"[Amused.] Hehehe, Aang, I'll help you catch a penguin if you teach me waterbending.\"], ['Aang', \"[Having grabbed the tail of a penguin, he holds on as it pulls him through the snow for a short way before letting go and looking up at Katara.] You got a deal! Just one little problem ... [He airbends himself into a sitting position.] I'm an airbender, not a waterbender. Isn't there someone in your tribe who can teach you?\"], ['Katara', \"[Sadly.] No. You're looking at the only waterbender in the whole South Pole.\"], ['Aang', \"This isn't right. A waterbender needs to master water. [He thinks for a moment.] What about the North Pole? There's another Water Tribe up there, right? Maybe they have waterbenders who could teach you.\"], ['Katara', 'Maybe, but we haven\\'t had contact with our sister tribe in a long time. It\\'s not exactly \"turn right at the second glacier\". It\\'s on the other side of the world.'], ['Aang', \"But you forget, I have a flying bison. [He happily points at himself.] Appa and I can personally fly you to the North Pole. Katara, we're going to find you a master!\"], ['Katara', \"[Unsure.] That's ... I mean, I don't know. I've never left home before.\"], ['Aang', 'Well, you think about it, but in the meantime, can you teach me catch one of these penguins?'], ['Katara', '[Mockingly imitating a teacher.] Okay, listen closely my young pupil. [Inclines her head toward Aang.] Catching penguins is an ancient and sacred art. [She conjures a fish out of her sleeve.] Observe!'], ['Aang', 'Hi hi hi! Ha, ha, ha!'], ['Katara', \"[Happily.] I haven't done this since I was a kid!\"], ['Aang', 'You still are a kid!'], ['Aang', '[In awe.] Whoa! What is that?'], ['Katara', \"[On a slightly dark tone.] A Fire Navy ship. And a very bad memory for my people. [Aang begins to approach the wreckage.] Aang, stop! We're not allowed to go near it! The ship could be booby-trapped!\"], ['Aang', 'If you want to be a bender, you have to let go of fear.'], ['Katara', \"[Her voice echoes through the room.] This ship has haunted my tribe since Gran-Gran was a little girl. [The camera shifts through the room, revealing all the weapons more closely.] It was part of the Fire Nation's first attacks.\"], ['Aang', \"Okay, back up. I have friends all over the world, even in the Fire Nation. [Aang picks up a Guan Dao to inspect it.] I've never seen any war.\"], ['Katara', 'Aang, how long were you in that iceberg?'], ['Aang', \"[Uncertain.] I don't know. A few days, maybe?\"], ['Katara', 'I think it was more like a hundred years!'], ['Aang', \"[In full disbelief and slightly accusing.] What?! That's impossible! Do I look like a hundred-twelve-year-old man to you?\"], ['Katara', \"Think about it. The War is a century old. You don't know about it because, somehow, you were in there the whole time! [Aang's expression changes to one of comprehension.] It's the only explanation.\"], ['Aang', \"A hundred years! [Saddened by his new discovery.] I can't believe it.\"], ['Katara', \"[Squats beside him.] I'm sorry, Aang. Maybe somehow there's a bright side to all this ...\"], ['Aang', '[Cheerfully.] I did get to meet you.'], ['Katara', \"[Smiling warmly at him while offering her hand.] Come on, let's get out of here.\"], ['Katara', \"Aang, let's head back, this place is creepy.\"], ['Aang', 'Huh?'], ['Aang', \"What's that you said about booby traps?\"], ['Aang', 'Uh oh ... [Aang notices a hole in the roof of the ship and takes a surprised Katara into his arms.] Hold on tight!'], ['Katara', 'Aaah!'], ['Zuko', 'The last airbender! [Aang and Katara reach the ground again and Aang sets Katara down. They start to walk away.] Quite agile for his old age. [He turns and angrily yells to a soldier behind him.] Wake my uncle! Tell him I found the Avatar. [Zuko peeks through his telescope again to see that Katara and Aang are running now. Zuko follows the direction they are running in with his telescope and discovers that they must be headed for the village he spots.] As well as his hiding place ...']]\n"
     ]
    }
   ],
   "source": [
    "print(len(avatarEpisodes))\n",
    "print(avatarEpisodes[0].title)\n",
    "print(avatarEpisodes[0].lines)"
   ]
  },
  {
   "cell_type": "markdown",
   "metadata": {},
   "source": [
    "Save the data as a json file so we don't have to do the webscraping again."
   ]
  },
  {
   "cell_type": "code",
   "execution_count": 142,
   "metadata": {
    "scrolled": true
   },
   "outputs": [
    {
     "name": "stdout",
     "output_type": "stream",
     "text": [
      "opening document avatarEpisodes.json. . .\n"
     ]
    }
   ],
   "source": [
    "import json\n",
    "\n",
    "def save_avatar_episodes_as_json(episodes):\n",
    "  eps = {\n",
    "    'episodes': [{\"title\": e.title, \"lines\": e.lines} for e in episodes]\n",
    "  }\n",
    "\n",
    "  with open('avatar-episodes.json', 'w') as f:\n",
    "    json.dump(eps, f)\n",
    "\n",
    "#run the function\n",
    "save_avatar_episodes_as_json(avatarEpisodes)"
   ]
  },
  {
   "cell_type": "markdown",
   "metadata": {},
   "source": [
    "### Now we have all the Episodes as python objects and json. Time for some NLP!"
   ]
  },
  {
   "cell_type": "markdown",
   "metadata": {},
   "source": [
    "## Step Two: Use NLTK to Build an Emotion to Line Mapping of Episodes"
   ]
  },
  {
   "cell_type": "code",
   "execution_count": null,
   "metadata": {},
   "outputs": [],
   "source": []
  }
 ],
 "metadata": {
  "kernelspec": {
   "display_name": "Python 3",
   "language": "python",
   "name": "python3"
  },
  "language_info": {
   "codemirror_mode": {
    "name": "ipython",
    "version": 3
   },
   "file_extension": ".py",
   "mimetype": "text/x-python",
   "name": "python",
   "nbconvert_exporter": "python",
   "pygments_lexer": "ipython3",
   "version": "3.6.9"
  }
 },
 "nbformat": 4,
 "nbformat_minor": 4
}
