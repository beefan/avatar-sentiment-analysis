{
 "cells": [
  {
   "cell_type": "markdown",
   "metadata": {},
   "source": [
    "# Avatar the Last Air Bender \n",
    "## *Sentiment Analysis of Characters, plot over time*"
   ]
  },
  {
   "cell_type": "markdown",
   "metadata": {},
   "source": [
    "## Part Two: Use Vader and NLTK to Build an Emotion to Line Mapping of Episodes from Transcript text"
   ]
  },
  {
   "cell_type": "markdown",
   "metadata": {},
   "source": [
    "First, we do our imports and define some helper functions."
   ]
  },
  {
   "cell_type": "code",
   "execution_count": 20,
   "metadata": {},
   "outputs": [],
   "source": [
    "import json\n",
    "# python nlp toolkit\n",
    "import nltk\n",
    "# vader sentiment analyzer\n",
    "from nltk.sentiment.vader import SentimentIntensityAnalyzer\n",
    "\n",
    "# opens json file saved in part 1 as a py dictionary\n",
    "def open_json_as_dict():\n",
    "  with open('data/avatar-episodes.json') as f:\n",
    "    data = json.load(f)\n",
    "  return data\n",
    "\n",
    "# creates a line to line mapping of vader scores for one episode\n",
    "def create_vader_mapping(episode):\n",
    "  sid = SentimentIntensityAnalyzer()\n",
    "  vaderLines = [ [l[0], sid.polarity_scores(l[1])] for l in episode['lines'] ]\n",
    "  vaderMapping = {\"title\": episode['title'], \"vaderLines\": vaderLines}\n",
    "  return vaderMapping\n",
    "\n",
    "# dump a python dictionary object to a json file\n",
    "def save_vader_mapping_as_json(vaderDict):\n",
    "  with open('avatar-episodes-vader-scores.json', 'w') as f:\n",
    "    json.dump(vaderDict, f)"
   ]
  },
  {
   "cell_type": "markdown",
   "metadata": {},
   "source": [
    "Now let's define a function to loop through all the episodes and create a new array with Vader scores."
   ]
  },
  {
   "cell_type": "code",
   "execution_count": 23,
   "metadata": {},
   "outputs": [],
   "source": [
    "def convert_episodes_to_vader_array(episodes):\n",
    "  result = []\n",
    "  for episode in episodes:\n",
    "    vader = create_vader_mapping(episode)\n",
    "    result.append(vader)\n",
    "  return result"
   ]
  },
  {
   "cell_type": "markdown",
   "metadata": {},
   "source": [
    "Finally time to do things! "
   ]
  },
  {
   "cell_type": "code",
   "execution_count": 24,
   "metadata": {},
   "outputs": [],
   "source": [
    "# get the data\n",
    "data = open_json_as_dict()\n",
    "\n",
    "# convert the episode lines to vader representation\n",
    "vaderArray = convert_episodes_to_vader_array(data['episodes'])\n",
    "\n",
    "# create the python dictionary\n",
    "vaderMap = {\n",
    "    'episodes': vaderArray\n",
    "  }\n",
    "\n",
    "# finally, save the mapping to json\n",
    "save_vader_mapping_as_json(vaderMap)"
   ]
  },
  {
   "cell_type": "markdown",
   "metadata": {},
   "source": [
    "### Now we have a json representation of the vader sentiment scores for every line in the Avatar Series.\n",
    "We'll use that later, but for now there's a few more chunks of data we want to gather."
   ]
  },
  {
   "cell_type": "code",
   "execution_count": null,
   "metadata": {},
   "outputs": [],
   "source": []
  }
 ],
 "metadata": {
  "kernelspec": {
   "display_name": "Python 3",
   "language": "python",
   "name": "python3"
  },
  "language_info": {
   "codemirror_mode": {
    "name": "ipython",
    "version": 3
   },
   "file_extension": ".py",
   "mimetype": "text/x-python",
   "name": "python",
   "nbconvert_exporter": "python",
   "pygments_lexer": "ipython3",
   "version": "3.6.9"
  }
 },
 "nbformat": 4,
 "nbformat_minor": 4
}
